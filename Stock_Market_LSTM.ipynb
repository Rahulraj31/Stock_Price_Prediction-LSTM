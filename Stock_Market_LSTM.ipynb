{
  "nbformat": 4,
  "nbformat_minor": 0,
  "metadata": {
    "colab": {
      "name": "Stock Market LSTM.ipynb",
      "provenance": []
    },
    "kernelspec": {
      "name": "python3",
      "display_name": "Python 3"
    },
    "language_info": {
      "name": "python"
    },
    "accelerator": "GPU"
  },
  "cells": [
    {
      "cell_type": "markdown",
      "metadata": {
        "id": "U6JhIY0rgt1e"
      },
      "source": [
        "\n",
        "<h1 align = center>Stock Market Prediction And Forecasting Using Stacked LSTM</h1>"
      ]
    },
    {
      "cell_type": "code",
      "metadata": {
        "id": "-sn9vfRiRImD"
      },
      "source": [
        "import pandas_datareader as pdr \n",
        "import pandas as pd\n",
        "import numpy as np"
      ],
      "execution_count": 1,
      "outputs": []
    },
    {
      "cell_type": "markdown",
      "metadata": {
        "id": "VDymaLBsRhjM"
      },
      "source": [
        "Taking  Apple company stock prices of past 7 months\n",
        "\n",
        "so using tiingo site api key to call data"
      ]
    },
    {
      "cell_type": "code",
      "metadata": {
        "colab": {
          "base_uri": "https://localhost:8080/",
          "height": 447
        },
        "id": "91u46VXSRX6Y",
        "outputId": "e22388aa-e76f-449d-e835-17c39b0301a0"
      },
      "source": [
        "#data scollection\n",
        "key= \"66b4c977fce1445730b09491153338ec69b3fb92\"\n",
        "df= pdr.get_iex_data_tiingo('AAPL',api_key=key) #key resets every hour\n",
        "df\n"
      ],
      "execution_count": 2,
      "outputs": [
        {
          "output_type": "execute_result",
          "data": {
            "text/html": [
              "<div>\n",
              "<style scoped>\n",
              "    .dataframe tbody tr th:only-of-type {\n",
              "        vertical-align: middle;\n",
              "    }\n",
              "\n",
              "    .dataframe tbody tr th {\n",
              "        vertical-align: top;\n",
              "    }\n",
              "\n",
              "    .dataframe thead th {\n",
              "        text-align: right;\n",
              "    }\n",
              "</style>\n",
              "<table border=\"1\" class=\"dataframe\">\n",
              "  <thead>\n",
              "    <tr style=\"text-align: right;\">\n",
              "      <th></th>\n",
              "      <th></th>\n",
              "      <th>close</th>\n",
              "      <th>high</th>\n",
              "      <th>low</th>\n",
              "      <th>open</th>\n",
              "    </tr>\n",
              "    <tr>\n",
              "      <th>symbol</th>\n",
              "      <th>date</th>\n",
              "      <th></th>\n",
              "      <th></th>\n",
              "      <th></th>\n",
              "      <th></th>\n",
              "    </tr>\n",
              "  </thead>\n",
              "  <tbody>\n",
              "    <tr>\n",
              "      <th rowspan=\"11\" valign=\"top\">AAPL</th>\n",
              "      <th>2020-12-08 17:15:00+00:00</th>\n",
              "      <td>124.02</td>\n",
              "      <td>124.085</td>\n",
              "      <td>123.890</td>\n",
              "      <td>124.040</td>\n",
              "    </tr>\n",
              "    <tr>\n",
              "      <th>2020-12-08 17:20:00+00:00</th>\n",
              "      <td>124.01</td>\n",
              "      <td>124.070</td>\n",
              "      <td>123.940</td>\n",
              "      <td>124.025</td>\n",
              "    </tr>\n",
              "    <tr>\n",
              "      <th>2020-12-08 17:25:00+00:00</th>\n",
              "      <td>124.07</td>\n",
              "      <td>124.105</td>\n",
              "      <td>123.980</td>\n",
              "      <td>124.015</td>\n",
              "    </tr>\n",
              "    <tr>\n",
              "      <th>2020-12-08 17:30:00+00:00</th>\n",
              "      <td>124.14</td>\n",
              "      <td>124.170</td>\n",
              "      <td>124.020</td>\n",
              "      <td>124.055</td>\n",
              "    </tr>\n",
              "    <tr>\n",
              "      <th>2020-12-08 17:35:00+00:00</th>\n",
              "      <td>124.32</td>\n",
              "      <td>124.320</td>\n",
              "      <td>124.090</td>\n",
              "      <td>124.145</td>\n",
              "    </tr>\n",
              "    <tr>\n",
              "      <th>...</th>\n",
              "      <td>...</td>\n",
              "      <td>...</td>\n",
              "      <td>...</td>\n",
              "      <td>...</td>\n",
              "    </tr>\n",
              "    <tr>\n",
              "      <th>2021-06-02 19:40:00+00:00</th>\n",
              "      <td>124.88</td>\n",
              "      <td>124.900</td>\n",
              "      <td>124.775</td>\n",
              "      <td>124.795</td>\n",
              "    </tr>\n",
              "    <tr>\n",
              "      <th>2021-06-02 19:45:00+00:00</th>\n",
              "      <td>124.96</td>\n",
              "      <td>124.980</td>\n",
              "      <td>124.870</td>\n",
              "      <td>124.885</td>\n",
              "    </tr>\n",
              "    <tr>\n",
              "      <th>2021-06-02 19:50:00+00:00</th>\n",
              "      <td>125.07</td>\n",
              "      <td>125.160</td>\n",
              "      <td>124.975</td>\n",
              "      <td>124.975</td>\n",
              "    </tr>\n",
              "    <tr>\n",
              "      <th>2021-06-02 19:55:00+00:00</th>\n",
              "      <td>125.08</td>\n",
              "      <td>125.135</td>\n",
              "      <td>124.975</td>\n",
              "      <td>125.070</td>\n",
              "    </tr>\n",
              "    <tr>\n",
              "      <th>2021-06-02 20:00:00+00:00</th>\n",
              "      <td>125.08</td>\n",
              "      <td>125.080</td>\n",
              "      <td>125.080</td>\n",
              "      <td>125.080</td>\n",
              "    </tr>\n",
              "  </tbody>\n",
              "</table>\n",
              "<p>10000 rows × 4 columns</p>\n",
              "</div>"
            ],
            "text/plain": [
              "                                   close     high      low     open\n",
              "symbol date                                                        \n",
              "AAPL   2020-12-08 17:15:00+00:00  124.02  124.085  123.890  124.040\n",
              "       2020-12-08 17:20:00+00:00  124.01  124.070  123.940  124.025\n",
              "       2020-12-08 17:25:00+00:00  124.07  124.105  123.980  124.015\n",
              "       2020-12-08 17:30:00+00:00  124.14  124.170  124.020  124.055\n",
              "       2020-12-08 17:35:00+00:00  124.32  124.320  124.090  124.145\n",
              "...                                  ...      ...      ...      ...\n",
              "       2021-06-02 19:40:00+00:00  124.88  124.900  124.775  124.795\n",
              "       2021-06-02 19:45:00+00:00  124.96  124.980  124.870  124.885\n",
              "       2021-06-02 19:50:00+00:00  125.07  125.160  124.975  124.975\n",
              "       2021-06-02 19:55:00+00:00  125.08  125.135  124.975  125.070\n",
              "       2021-06-02 20:00:00+00:00  125.08  125.080  125.080  125.080\n",
              "\n",
              "[10000 rows x 4 columns]"
            ]
          },
          "metadata": {
            "tags": []
          },
          "execution_count": 2
        }
      ]
    },
    {
      "cell_type": "code",
      "metadata": {
        "id": "nRPxBC6ER1sW"
      },
      "source": [
        "df.to_csv('AAPL.csv')"
      ],
      "execution_count": 3,
      "outputs": []
    },
    {
      "cell_type": "code",
      "metadata": {
        "id": "QTMQBtYNTSiu"
      },
      "source": [
        "df=pd.read_csv(\"AAPL.csv\")"
      ],
      "execution_count": 4,
      "outputs": []
    },
    {
      "cell_type": "code",
      "metadata": {
        "colab": {
          "base_uri": "https://localhost:8080/",
          "height": 203
        },
        "id": "bnauan5dTl6_",
        "outputId": "f89fca49-d1a9-48f2-ef25-af1e838965e8"
      },
      "source": [
        "df.head()"
      ],
      "execution_count": 5,
      "outputs": [
        {
          "output_type": "execute_result",
          "data": {
            "text/html": [
              "<div>\n",
              "<style scoped>\n",
              "    .dataframe tbody tr th:only-of-type {\n",
              "        vertical-align: middle;\n",
              "    }\n",
              "\n",
              "    .dataframe tbody tr th {\n",
              "        vertical-align: top;\n",
              "    }\n",
              "\n",
              "    .dataframe thead th {\n",
              "        text-align: right;\n",
              "    }\n",
              "</style>\n",
              "<table border=\"1\" class=\"dataframe\">\n",
              "  <thead>\n",
              "    <tr style=\"text-align: right;\">\n",
              "      <th></th>\n",
              "      <th>symbol</th>\n",
              "      <th>date</th>\n",
              "      <th>close</th>\n",
              "      <th>high</th>\n",
              "      <th>low</th>\n",
              "      <th>open</th>\n",
              "    </tr>\n",
              "  </thead>\n",
              "  <tbody>\n",
              "    <tr>\n",
              "      <th>0</th>\n",
              "      <td>AAPL</td>\n",
              "      <td>2020-12-08 17:15:00+00:00</td>\n",
              "      <td>124.02</td>\n",
              "      <td>124.085</td>\n",
              "      <td>123.89</td>\n",
              "      <td>124.040</td>\n",
              "    </tr>\n",
              "    <tr>\n",
              "      <th>1</th>\n",
              "      <td>AAPL</td>\n",
              "      <td>2020-12-08 17:20:00+00:00</td>\n",
              "      <td>124.01</td>\n",
              "      <td>124.070</td>\n",
              "      <td>123.94</td>\n",
              "      <td>124.025</td>\n",
              "    </tr>\n",
              "    <tr>\n",
              "      <th>2</th>\n",
              "      <td>AAPL</td>\n",
              "      <td>2020-12-08 17:25:00+00:00</td>\n",
              "      <td>124.07</td>\n",
              "      <td>124.105</td>\n",
              "      <td>123.98</td>\n",
              "      <td>124.015</td>\n",
              "    </tr>\n",
              "    <tr>\n",
              "      <th>3</th>\n",
              "      <td>AAPL</td>\n",
              "      <td>2020-12-08 17:30:00+00:00</td>\n",
              "      <td>124.14</td>\n",
              "      <td>124.170</td>\n",
              "      <td>124.02</td>\n",
              "      <td>124.055</td>\n",
              "    </tr>\n",
              "    <tr>\n",
              "      <th>4</th>\n",
              "      <td>AAPL</td>\n",
              "      <td>2020-12-08 17:35:00+00:00</td>\n",
              "      <td>124.32</td>\n",
              "      <td>124.320</td>\n",
              "      <td>124.09</td>\n",
              "      <td>124.145</td>\n",
              "    </tr>\n",
              "  </tbody>\n",
              "</table>\n",
              "</div>"
            ],
            "text/plain": [
              "  symbol                       date   close     high     low     open\n",
              "0   AAPL  2020-12-08 17:15:00+00:00  124.02  124.085  123.89  124.040\n",
              "1   AAPL  2020-12-08 17:20:00+00:00  124.01  124.070  123.94  124.025\n",
              "2   AAPL  2020-12-08 17:25:00+00:00  124.07  124.105  123.98  124.015\n",
              "3   AAPL  2020-12-08 17:30:00+00:00  124.14  124.170  124.02  124.055\n",
              "4   AAPL  2020-12-08 17:35:00+00:00  124.32  124.320  124.09  124.145"
            ]
          },
          "metadata": {
            "tags": []
          },
          "execution_count": 5
        }
      ]
    },
    {
      "cell_type": "code",
      "metadata": {
        "colab": {
          "base_uri": "https://localhost:8080/"
        },
        "id": "61r1ekFfT2ZQ",
        "outputId": "b5fc57f7-5007-460a-d554-cc0cb4ee39cc"
      },
      "source": [
        "df1=df.reset_index()['close']\n",
        "df1"
      ],
      "execution_count": 6,
      "outputs": [
        {
          "output_type": "execute_result",
          "data": {
            "text/plain": [
              "0       124.02\n",
              "1       124.01\n",
              "2       124.07\n",
              "3       124.14\n",
              "4       124.32\n",
              "         ...  \n",
              "9995    124.88\n",
              "9996    124.96\n",
              "9997    125.07\n",
              "9998    125.08\n",
              "9999    125.08\n",
              "Name: close, Length: 10000, dtype: float64"
            ]
          },
          "metadata": {
            "tags": []
          },
          "execution_count": 6
        }
      ]
    },
    {
      "cell_type": "code",
      "metadata": {
        "colab": {
          "base_uri": "https://localhost:8080/"
        },
        "id": "g3GkVlZyV3o2",
        "outputId": "51b783be-f8c9-4198-9286-bae24a5f5fc3"
      },
      "source": [
        "df1.shape"
      ],
      "execution_count": 7,
      "outputs": [
        {
          "output_type": "execute_result",
          "data": {
            "text/plain": [
              "(10000,)"
            ]
          },
          "metadata": {
            "tags": []
          },
          "execution_count": 7
        }
      ]
    },
    {
      "cell_type": "code",
      "metadata": {
        "colab": {
          "base_uri": "https://localhost:8080/",
          "height": 282
        },
        "id": "lqOSRb7AWGtQ",
        "outputId": "b80ec128-7209-458b-c973-440b55c3fedc"
      },
      "source": [
        "import matplotlib.pyplot as plt\n",
        "plt.plot(df1)"
      ],
      "execution_count": 8,
      "outputs": [
        {
          "output_type": "execute_result",
          "data": {
            "text/plain": [
              "[<matplotlib.lines.Line2D at 0x7fba9f642150>]"
            ]
          },
          "metadata": {
            "tags": []
          },
          "execution_count": 8
        },
        {
          "output_type": "display_data",
          "data": {
            "image/png": "[encoded data removed]",
            "text/plain": [
              "<Figure size 432x288 with 1 Axes>"
            ]
          },
          "metadata": {
            "tags": [],
            "needs_background": "light"
          }
        }
      ]
    },
    {
      "cell_type": "markdown",
      "metadata": {
        "id": "u3Pa8IygWe0F"
      },
      "source": [
        "LSTM are sensitive to the scale, so we will scale it using min max scaler and scale it b/w  0 to 1"
      ]
    },
    {
      "cell_type": "code",
      "metadata": {
        "id": "CorWgnCmWNDH"
      },
      "source": [
        "from sklearn.preprocessing import  MinMaxScaler\n",
        "scaler=MinMaxScaler(feature_range=(0,1))\n",
        "df1=scaler.fit_transform(np.array(df1).reshape(-1,1))"
      ],
      "execution_count": 9,
      "outputs": []
    },
    {
      "cell_type": "markdown",
      "metadata": {
        "id": "46qhCl7HYZI3"
      },
      "source": [
        "train test splitting on time series data is different we cant use random seed method or cv method. We divide by days coz next day data may be dependent on previous day "
      ]
    },
    {
      "cell_type": "code",
      "metadata": {
        "id": "1Mv9J66AXSQg"
      },
      "source": [
        "training_size=int(len(df1)*0.70)\n",
        "test_size=len(df1)-training_size\n",
        "train_data,test_data=df1[0:training_size,:],df1[training_size:len(df1),:1] "
      ],
      "execution_count": 10,
      "outputs": []
    },
    {
      "cell_type": "code",
      "metadata": {
        "id": "KKpmcvlQXc2g"
      },
      "source": [
        "training_size=int(len(df1)*0.65)\n",
        "test_size=len(df1)-training_size\n",
        "train_data,test_data=df1[0:training_size,:],df1[training_size:len(df1),:]"
      ],
      "execution_count": 11,
      "outputs": []
    },
    {
      "cell_type": "code",
      "metadata": {
        "id": "bMTVUStvZl6Y"
      },
      "source": [
        "# convert an array of values into a dataset matrix\n",
        "def create_dataset(dataset, time_step=1):\n",
        "\tdataX, dataY = [], []\n",
        "\tfor i in range(len(dataset)-time_step-1):\n",
        "\t\ta = dataset[i:(i+time_step), 0]   ###i=0, 0,1,2,3-----99   100 \n",
        "\t\tdataX.append(a)\n",
        "\t\tdataY.append(dataset[i + time_step, 0])\n",
        "\treturn numpy.array(dataX), numpy.array(dataY)"
      ],
      "execution_count": 12,
      "outputs": []
    },
    {
      "cell_type": "code",
      "metadata": {
        "id": "kyKUiWU-bNQQ"
      },
      "source": [
        "import numpy\n",
        "# reshape into X=t,t+1,t+2,t+3 and Y=t+4\n",
        "time_step = 100\n",
        "X_train, y_train = create_dataset(train_data, time_step)\n",
        "X_test, ytest = create_dataset(test_data, time_step)"
      ],
      "execution_count": 13,
      "outputs": []
    },
    {
      "cell_type": "code",
      "metadata": {
        "colab": {
          "base_uri": "https://localhost:8080/"
        },
        "id": "VKJxMlJRbPvQ",
        "outputId": "7f9ba0b9-f7bd-4924-af57-723c510d2232"
      },
      "source": [
        "\n",
        "X_train.shape, y_train.shape"
      ],
      "execution_count": 14,
      "outputs": [
        {
          "output_type": "execute_result",
          "data": {
            "text/plain": [
              "((6399, 100), (6399,))"
            ]
          },
          "metadata": {
            "tags": []
          },
          "execution_count": 14
        }
      ]
    },
    {
      "cell_type": "code",
      "metadata": {
        "colab": {
          "base_uri": "https://localhost:8080/"
        },
        "id": "usEn51zGbe5o",
        "outputId": "cece44de-7e51-4972-b95f-fe4072b1e162"
      },
      "source": [
        "print(X_test.shape), print(ytest.shape)"
      ],
      "execution_count": 15,
      "outputs": [
        {
          "output_type": "stream",
          "text": [
            "(3399, 100)\n",
            "(3399,)\n"
          ],
          "name": "stdout"
        },
        {
          "output_type": "execute_result",
          "data": {
            "text/plain": [
              "(None, None)"
            ]
          },
          "metadata": {
            "tags": []
          },
          "execution_count": 15
        }
      ]
    },
    {
      "cell_type": "code",
      "metadata": {
        "id": "EIQs-GgxbjhY"
      },
      "source": [
        "# reshape input to be [samples, time steps, features] which is required for LSTM\n",
        "X_train =X_train.reshape(X_train.shape[0],X_train.shape[1] , 1)\n",
        "X_test = X_test.reshape(X_test.shape[0],X_test.shape[1] , 1)"
      ],
      "execution_count": 16,
      "outputs": []
    },
    {
      "cell_type": "code",
      "metadata": {
        "id": "7SC5kyLOcC5A"
      },
      "source": [
        "### Create the Stacked LSTM model\n",
        "from tensorflow.keras.models import Sequential\n",
        "from tensorflow.keras.layers import Dense\n",
        "from tensorflow.keras.layers import LSTM"
      ],
      "execution_count": 17,
      "outputs": []
    },
    {
      "cell_type": "code",
      "metadata": {
        "id": "5fo7vUMOcVi4"
      },
      "source": [
        "model=Sequential([\n",
        "LSTM(50,return_sequences=True,input_shape=(100,1)),\n",
        "LSTM(50,return_sequences=True),\n",
        "LSTM(50),\n",
        "Dense(1),\n",
        "])\n",
        "model.compile(loss='mean_squared_error',optimizer='adam'\n",
        ")"
      ],
      "execution_count": 18,
      "outputs": []
    },
    {
      "cell_type": "code",
      "metadata": {
        "colab": {
          "base_uri": "https://localhost:8080/"
        },
        "id": "ccj00qNKcvN4",
        "outputId": "8b6e93a7-f93a-4d11-8637-9e2a258dbb83"
      },
      "source": [
        "model.summary()"
      ],
      "execution_count": 19,
      "outputs": [
        {
          "output_type": "stream",
          "text": [
            "Model: \"sequential\"\n",
            "_________________________________________________________________\n",
            "Layer (type)                 Output Shape              Param #   \n",
            "=================================================================\n",
            "lstm (LSTM)                  (None, 100, 50)           10400     \n",
            "_________________________________________________________________\n",
            "lstm_1 (LSTM)                (None, 100, 50)           20200     \n",
            "_________________________________________________________________\n",
            "lstm_2 (LSTM)                (None, 50)                20200     \n",
            "_________________________________________________________________\n",
            "dense (Dense)                (None, 1)                 51        \n",
            "=================================================================\n",
            "Total params: 50,851\n",
            "Trainable params: 50,851\n",
            "Non-trainable params: 0\n",
            "_________________________________________________________________\n"
          ],
          "name": "stdout"
        }
      ]
    },
    {
      "cell_type": "code",
      "metadata": {
        "colab": {
          "base_uri": "https://localhost:8080/"
        },
        "id": "OK4I5qtFdJag",
        "outputId": "794cdc3c-21cb-475f-cc47-8934a20dfd68"
      },
      "source": [
        "model.fit(X_train,y_train,validation_data=(X_test,ytest),epochs=100,batch_size=64,verbose=1)"
      ],
      "execution_count": 20,
      "outputs": [
        {
          "output_type": "stream",
          "text": [
            "Epoch 1/100\n",
            "100/100 [==============================] - 7s 26ms/step - loss: 0.0066 - val_loss: 4.2551e-04\n",
            "Epoch 2/100\n",
            "100/100 [==============================] - 2s 16ms/step - loss: 7.6778e-04 - val_loss: 3.7894e-04\n",
            "Epoch 3/100\n",
            "100/100 [==============================] - 2s 16ms/step - loss: 7.1986e-04 - val_loss: 3.4991e-04\n",
            "Epoch 4/100\n",
            "100/100 [==============================] - 2s 16ms/step - loss: 6.4538e-04 - val_loss: 3.0799e-04\n",
            "Epoch 5/100\n",
            "100/100 [==============================] - 2s 16ms/step - loss: 5.8338e-04 - val_loss: 3.8458e-04\n",
            "Epoch 6/100\n",
            "100/100 [==============================] - 2s 16ms/step - loss: 5.5615e-04 - val_loss: 2.5443e-04\n",
            "Epoch 7/100\n",
            "100/100 [==============================] - 2s 16ms/step - loss: 4.8545e-04 - val_loss: 2.4643e-04\n",
            "Epoch 8/100\n",
            "100/100 [==============================] - 2s 16ms/step - loss: 4.6099e-04 - val_loss: 2.9733e-04\n",
            "Epoch 9/100\n",
            "100/100 [==============================] - 2s 16ms/step - loss: 3.8833e-04 - val_loss: 2.0414e-04\n",
            "Epoch 10/100\n",
            "100/100 [==============================] - 2s 16ms/step - loss: 3.8465e-04 - val_loss: 2.0557e-04\n",
            "Epoch 11/100\n",
            "100/100 [==============================] - 2s 16ms/step - loss: 3.1052e-04 - val_loss: 1.3732e-04\n",
            "Epoch 12/100\n",
            "100/100 [==============================] - 2s 16ms/step - loss: 2.8035e-04 - val_loss: 2.0826e-04\n",
            "Epoch 13/100\n",
            "100/100 [==============================] - 2s 16ms/step - loss: 2.8561e-04 - val_loss: 1.3606e-04\n",
            "Epoch 14/100\n",
            "100/100 [==============================] - 2s 16ms/step - loss: 2.5181e-04 - val_loss: 1.0979e-04\n",
            "Epoch 15/100\n",
            "100/100 [==============================] - 2s 16ms/step - loss: 2.6698e-04 - val_loss: 1.2857e-04\n",
            "Epoch 16/100\n",
            "100/100 [==============================] - 2s 16ms/step - loss: 2.1550e-04 - val_loss: 1.0554e-04\n",
            "Epoch 17/100\n",
            "100/100 [==============================] - 2s 16ms/step - loss: 2.2240e-04 - val_loss: 8.9144e-05\n",
            "Epoch 18/100\n",
            "100/100 [==============================] - 2s 16ms/step - loss: 1.9521e-04 - val_loss: 8.7945e-05\n",
            "Epoch 19/100\n",
            "100/100 [==============================] - 2s 16ms/step - loss: 1.9629e-04 - val_loss: 1.4332e-04\n",
            "Epoch 20/100\n",
            "100/100 [==============================] - 2s 16ms/step - loss: 1.8288e-04 - val_loss: 1.0204e-04\n",
            "Epoch 21/100\n",
            "100/100 [==============================] - 2s 16ms/step - loss: 1.8258e-04 - val_loss: 1.1728e-04\n",
            "Epoch 22/100\n",
            "100/100 [==============================] - 2s 16ms/step - loss: 1.7508e-04 - val_loss: 8.5273e-05\n",
            "Epoch 23/100\n",
            "100/100 [==============================] - 2s 16ms/step - loss: 1.7408e-04 - val_loss: 2.8073e-04\n",
            "Epoch 24/100\n",
            "100/100 [==============================] - 2s 16ms/step - loss: 2.1380e-04 - val_loss: 6.7035e-05\n",
            "Epoch 25/100\n",
            "100/100 [==============================] - 2s 16ms/step - loss: 1.5974e-04 - val_loss: 8.3851e-05\n",
            "Epoch 26/100\n",
            "100/100 [==============================] - 2s 16ms/step - loss: 1.6061e-04 - val_loss: 8.0157e-05\n",
            "Epoch 27/100\n",
            "100/100 [==============================] - 2s 16ms/step - loss: 1.4966e-04 - val_loss: 1.0375e-04\n",
            "Epoch 28/100\n",
            "100/100 [==============================] - 2s 16ms/step - loss: 1.6689e-04 - val_loss: 7.4942e-05\n",
            "Epoch 29/100\n",
            "100/100 [==============================] - 2s 15ms/step - loss: 1.4814e-04 - val_loss: 6.3046e-05\n",
            "Epoch 30/100\n",
            "100/100 [==============================] - 2s 16ms/step - loss: 1.3850e-04 - val_loss: 6.8507e-05\n",
            "Epoch 31/100\n",
            "100/100 [==============================] - 2s 16ms/step - loss: 1.5838e-04 - val_loss: 8.3914e-05\n",
            "Epoch 32/100\n",
            "100/100 [==============================] - 2s 16ms/step - loss: 1.4358e-04 - val_loss: 5.8664e-05\n",
            "Epoch 33/100\n",
            "100/100 [==============================] - 2s 16ms/step - loss: 1.4577e-04 - val_loss: 9.0830e-05\n",
            "Epoch 34/100\n",
            "100/100 [==============================] - 2s 16ms/step - loss: 1.3881e-04 - val_loss: 5.9660e-05\n",
            "Epoch 35/100\n",
            "100/100 [==============================] - 2s 17ms/step - loss: 1.4451e-04 - val_loss: 6.7789e-05\n",
            "Epoch 36/100\n",
            "100/100 [==============================] - 2s 17ms/step - loss: 1.3492e-04 - val_loss: 6.8886e-05\n",
            "Epoch 37/100\n",
            "100/100 [==============================] - 2s 16ms/step - loss: 1.3069e-04 - val_loss: 5.9243e-05\n",
            "Epoch 38/100\n",
            "100/100 [==============================] - 2s 16ms/step - loss: 1.8113e-04 - val_loss: 1.2752e-04\n",
            "Epoch 39/100\n",
            "100/100 [==============================] - 2s 16ms/step - loss: 1.5246e-04 - val_loss: 5.8037e-05\n",
            "Epoch 40/100\n",
            "100/100 [==============================] - 2s 16ms/step - loss: 1.4844e-04 - val_loss: 5.7293e-05\n",
            "Epoch 41/100\n",
            "100/100 [==============================] - 2s 16ms/step - loss: 1.5224e-04 - val_loss: 1.2184e-04\n",
            "Epoch 42/100\n",
            "100/100 [==============================] - 2s 16ms/step - loss: 1.3305e-04 - val_loss: 6.2070e-05\n",
            "Epoch 43/100\n",
            "100/100 [==============================] - 2s 16ms/step - loss: 1.3429e-04 - val_loss: 1.2135e-04\n",
            "Epoch 44/100\n",
            "100/100 [==============================] - 2s 16ms/step - loss: 1.3374e-04 - val_loss: 5.6586e-05\n",
            "Epoch 45/100\n",
            "100/100 [==============================] - 2s 16ms/step - loss: 1.2596e-04 - val_loss: 7.3836e-05\n",
            "Epoch 46/100\n",
            "100/100 [==============================] - 2s 16ms/step - loss: 1.4264e-04 - val_loss: 1.5533e-04\n",
            "Epoch 47/100\n",
            "100/100 [==============================] - 2s 16ms/step - loss: 1.3107e-04 - val_loss: 5.7786e-05\n",
            "Epoch 48/100\n",
            "100/100 [==============================] - 2s 16ms/step - loss: 1.3041e-04 - val_loss: 1.4881e-04\n",
            "Epoch 49/100\n",
            "100/100 [==============================] - 2s 16ms/step - loss: 1.5032e-04 - val_loss: 6.1805e-05\n",
            "Epoch 50/100\n",
            "100/100 [==============================] - 2s 16ms/step - loss: 1.2609e-04 - val_loss: 6.1870e-05\n",
            "Epoch 51/100\n",
            "100/100 [==============================] - 2s 18ms/step - loss: 1.2849e-04 - val_loss: 6.7593e-05\n",
            "Epoch 52/100\n",
            "100/100 [==============================] - 2s 17ms/step - loss: 1.2438e-04 - val_loss: 6.0299e-05\n",
            "Epoch 53/100\n",
            "100/100 [==============================] - 2s 17ms/step - loss: 1.2754e-04 - val_loss: 8.8786e-05\n",
            "Epoch 54/100\n",
            "100/100 [==============================] - 2s 17ms/step - loss: 1.3187e-04 - val_loss: 9.2604e-05\n",
            "Epoch 55/100\n",
            "100/100 [==============================] - 2s 17ms/step - loss: 1.3409e-04 - val_loss: 1.4115e-04\n",
            "Epoch 56/100\n",
            "100/100 [==============================] - 2s 17ms/step - loss: 1.3165e-04 - val_loss: 6.7173e-05\n",
            "Epoch 57/100\n",
            "100/100 [==============================] - 2s 17ms/step - loss: 1.3201e-04 - val_loss: 6.3576e-05\n",
            "Epoch 58/100\n",
            "100/100 [==============================] - 2s 17ms/step - loss: 1.2745e-04 - val_loss: 7.8554e-05\n",
            "Epoch 59/100\n",
            "100/100 [==============================] - 2s 17ms/step - loss: 1.1983e-04 - val_loss: 7.2259e-05\n",
            "Epoch 60/100\n",
            "100/100 [==============================] - 2s 17ms/step - loss: 1.2141e-04 - val_loss: 7.6701e-05\n",
            "Epoch 61/100\n",
            "100/100 [==============================] - 2s 17ms/step - loss: 1.2846e-04 - val_loss: 1.2789e-04\n",
            "Epoch 62/100\n",
            "100/100 [==============================] - 2s 17ms/step - loss: 1.4834e-04 - val_loss: 6.7162e-05\n",
            "Epoch 63/100\n",
            "100/100 [==============================] - 2s 18ms/step - loss: 1.2514e-04 - val_loss: 5.9467e-05\n",
            "Epoch 64/100\n",
            "100/100 [==============================] - 2s 17ms/step - loss: 1.3592e-04 - val_loss: 5.8337e-05\n",
            "Epoch 65/100\n",
            "100/100 [==============================] - 2s 17ms/step - loss: 1.3831e-04 - val_loss: 8.4476e-05\n",
            "Epoch 66/100\n",
            "100/100 [==============================] - 2s 17ms/step - loss: 1.3722e-04 - val_loss: 5.9296e-05\n",
            "Epoch 67/100\n",
            "100/100 [==============================] - 2s 17ms/step - loss: 1.2806e-04 - val_loss: 6.4706e-05\n",
            "Epoch 68/100\n",
            "100/100 [==============================] - 2s 17ms/step - loss: 1.1784e-04 - val_loss: 6.1074e-05\n",
            "Epoch 69/100\n",
            "100/100 [==============================] - 2s 17ms/step - loss: 1.2944e-04 - val_loss: 6.7394e-05\n",
            "Epoch 70/100\n",
            "100/100 [==============================] - 2s 17ms/step - loss: 1.1880e-04 - val_loss: 5.5555e-05\n",
            "Epoch 71/100\n",
            "100/100 [==============================] - 2s 17ms/step - loss: 1.1961e-04 - val_loss: 1.2235e-04\n",
            "Epoch 72/100\n",
            "100/100 [==============================] - 2s 17ms/step - loss: 1.2507e-04 - val_loss: 5.9789e-05\n",
            "Epoch 73/100\n",
            "100/100 [==============================] - 2s 17ms/step - loss: 1.3118e-04 - val_loss: 8.2396e-05\n",
            "Epoch 74/100\n",
            "100/100 [==============================] - 2s 17ms/step - loss: 1.2724e-04 - val_loss: 5.8149e-05\n",
            "Epoch 75/100\n",
            "100/100 [==============================] - 2s 17ms/step - loss: 1.1522e-04 - val_loss: 5.5915e-05\n",
            "Epoch 76/100\n",
            "100/100 [==============================] - 2s 17ms/step - loss: 1.2991e-04 - val_loss: 5.5494e-05\n",
            "Epoch 77/100\n",
            "100/100 [==============================] - 2s 16ms/step - loss: 1.2895e-04 - val_loss: 5.7375e-05\n",
            "Epoch 78/100\n",
            "100/100 [==============================] - 2s 17ms/step - loss: 1.1671e-04 - val_loss: 5.5924e-05\n",
            "Epoch 79/100\n",
            "100/100 [==============================] - 2s 16ms/step - loss: 1.2303e-04 - val_loss: 5.9209e-05\n",
            "Epoch 80/100\n",
            "100/100 [==============================] - 2s 16ms/step - loss: 1.2080e-04 - val_loss: 7.2186e-05\n",
            "Epoch 81/100\n",
            "100/100 [==============================] - 2s 16ms/step - loss: 1.3886e-04 - val_loss: 7.9477e-05\n",
            "Epoch 82/100\n",
            "100/100 [==============================] - 2s 16ms/step - loss: 1.2390e-04 - val_loss: 8.1757e-05\n",
            "Epoch 83/100\n",
            "100/100 [==============================] - 2s 17ms/step - loss: 1.2438e-04 - val_loss: 7.7621e-05\n",
            "Epoch 84/100\n",
            "100/100 [==============================] - 2s 17ms/step - loss: 1.2255e-04 - val_loss: 1.1653e-04\n",
            "Epoch 85/100\n",
            "100/100 [==============================] - 2s 17ms/step - loss: 1.1670e-04 - val_loss: 6.3146e-05\n",
            "Epoch 86/100\n",
            "100/100 [==============================] - 2s 16ms/step - loss: 1.2180e-04 - val_loss: 5.9846e-05\n",
            "Epoch 87/100\n",
            "100/100 [==============================] - 2s 17ms/step - loss: 1.2175e-04 - val_loss: 9.5594e-05\n",
            "Epoch 88/100\n",
            "100/100 [==============================] - 2s 17ms/step - loss: 1.2018e-04 - val_loss: 7.7279e-05\n",
            "Epoch 89/100\n",
            "100/100 [==============================] - 2s 17ms/step - loss: 1.1721e-04 - val_loss: 5.7533e-05\n",
            "Epoch 90/100\n",
            "100/100 [==============================] - 2s 16ms/step - loss: 1.2021e-04 - val_loss: 6.7648e-05\n",
            "Epoch 91/100\n",
            "100/100 [==============================] - 2s 17ms/step - loss: 1.2708e-04 - val_loss: 5.5542e-05\n",
            "Epoch 92/100\n",
            "100/100 [==============================] - 2s 16ms/step - loss: 1.1349e-04 - val_loss: 6.0190e-05\n",
            "Epoch 93/100\n",
            "100/100 [==============================] - 2s 17ms/step - loss: 1.3044e-04 - val_loss: 5.5028e-05\n",
            "Epoch 94/100\n",
            "100/100 [==============================] - 2s 17ms/step - loss: 1.2117e-04 - val_loss: 8.0448e-05\n",
            "Epoch 95/100\n",
            "100/100 [==============================] - 2s 16ms/step - loss: 1.2070e-04 - val_loss: 6.1834e-05\n",
            "Epoch 96/100\n",
            "100/100 [==============================] - 2s 17ms/step - loss: 1.1950e-04 - val_loss: 5.9629e-05\n",
            "Epoch 97/100\n",
            "100/100 [==============================] - 2s 17ms/step - loss: 1.1452e-04 - val_loss: 7.6166e-05\n",
            "Epoch 98/100\n",
            "100/100 [==============================] - 2s 16ms/step - loss: 1.1458e-04 - val_loss: 6.0847e-05\n",
            "Epoch 99/100\n",
            "100/100 [==============================] - 2s 17ms/step - loss: 1.1458e-04 - val_loss: 5.8174e-05\n",
            "Epoch 100/100\n",
            "100/100 [==============================] - 2s 17ms/step - loss: 1.1540e-04 - val_loss: 5.5772e-05\n"
          ],
          "name": "stdout"
        },
        {
          "output_type": "execute_result",
          "data": {
            "text/plain": [
              "<tensorflow.python.keras.callbacks.History at 0x7fba54b2ab50>"
            ]
          },
          "metadata": {
            "tags": []
          },
          "execution_count": 20
        }
      ]
    },
    {
      "cell_type": "code",
      "metadata": {
        "id": "6QypLHTBdQrJ"
      },
      "source": [
        "### Lets Do the prediction and check performance metrics\n",
        "test_predict=model.predict(X_test)"
      ],
      "execution_count": 21,
      "outputs": []
    },
    {
      "cell_type": "code",
      "metadata": {
        "id": "TrU4VIIoe5nK"
      },
      "source": [
        "##Transformback to original form\n",
        "test_predict=scaler.inverse_transform(test_predict)"
      ],
      "execution_count": 22,
      "outputs": []
    },
    {
      "cell_type": "code",
      "metadata": {
        "colab": {
          "base_uri": "https://localhost:8080/"
        },
        "id": "Zn8SBFQae8Pw",
        "outputId": "ac20f699-6099-46d2-90d2-ceab0af34d04"
      },
      "source": [
        "### Calculate RMSE performance metrics\n",
        "import math\n",
        "from sklearn.metrics import mean_squared_error\n",
        "math.sqrt(mean_squared_error(ytest,test_predict))"
      ],
      "execution_count": 23,
      "outputs": [
        {
          "output_type": "execute_result",
          "data": {
            "text/plain": [
              "128.8100216377853"
            ]
          },
          "metadata": {
            "tags": []
          },
          "execution_count": 23
        }
      ]
    },
    {
      "cell_type": "code",
      "metadata": {
        "id": "KL_f1SeHfsJh"
      },
      "source": [
        ""
      ],
      "execution_count": 23,
      "outputs": []
    }
  ]
}